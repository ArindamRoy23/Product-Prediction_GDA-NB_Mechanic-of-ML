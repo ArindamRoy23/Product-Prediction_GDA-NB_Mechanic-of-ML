{
 "cells": [
  {
   "cell_type": "markdown",
   "metadata": {},
   "source": [
    "# Product Category Prediction\n",
    "\n",
    "##### Hi, \n",
    "###### Welcome to this repository! The objective of this repository is to best understand Naive Bayes . The data used in this repo has been taken from Kaggle (link below). \n",
    "https://www.kaggle.com/PromptCloudHQ/flipkart-products\n",
    "\n",
    "\n",
    "### About project Mechanic of Machine Learning:\n",
    "I am a mechanical engineer by education. Now, I want to deep dive in the world of Machine Learning, hence the name, mechanic of ML :D. I have taken up this project to understand the in-depth mathematics involved in regularly used ML algorithms. Under this project, I will be sharing useful material and links as I explore this domain. The objective is to learn and spread the same. Stay tuned to my GitHub for updates!\n",
    "\n",
    "### Business Case: \n",
    "An online retailer wants to classify data based on description provided by seller. Generate a model to facilitate this ask. \n",
    "### Notebook objectives:\n",
    "\n",
    "* To understand and implement naive bayes \n",
    "\n",
    "### References:\n",
    "* GDA and NB: https://www.youtube.com/watch?v=nt63k3bfXS0\n",
    "* NB: https://www.youtube.com/watch?v=O2L2Uv9pdDA\n",
    "* Gaussian NB:https://www.youtube.com/watch?v=H3EjCKtlVog\n",
    "* Building NB from scratch: https://towardsdatascience.com/na%C3%AFve-bayes-from-scratch-using-python-only-no-fancy-frameworks-a1904b37222d\n",
    "* Notes and source code: (to fill)\n"
   ]
  },
  {
   "cell_type": "code",
   "execution_count": 31,
   "metadata": {},
   "outputs": [],
   "source": [
    "'''\n",
    "Importing packages\n",
    "\n",
    "'''\n",
    "\n",
    "\n",
    "import numpy as np \n",
    "import pandas as pd \n",
    "import re \n",
    "import nltk \n",
    "from sklearn import preprocessing\n",
    "from sklearn.model_selection import train_test_split\n",
    "from sklearn.feature_extraction.text import CountVectorizer\n",
    "from sklearn.naive_bayes import MultinomialNB\n",
    "from sklearn.metrics import classification_report\n",
    "from sklearn.feature_extraction.text import TfidfVectorizer"
   ]
  },
  {
   "cell_type": "code",
   "execution_count": 32,
   "metadata": {},
   "outputs": [],
   "source": [
    "\n",
    "def preprocess_string(str_arg):\n",
    "    '''\n",
    "    input: str_arg --> Takes string to clean\n",
    "    output: cleaned_str --> Gives back cleaned string\n",
    "    This fuction cleans the text in the mentioned ways as comments after the line.This has been copied from some other kernel.\n",
    "\n",
    "    '''\n",
    "    cleaned_str=re.sub('[^a-z\\s]+',' ',str_arg,flags=re.IGNORECASE) #every char except alphabets is replaced\n",
    "    cleaned_str=re.sub('(\\s+)',' ',cleaned_str) #multiple spaces are replaced by single space\n",
    "    cleaned_str=cleaned_str.lower() #converting the cleaned string to lower case\n",
    "    \n",
    "    return cleaned_str # Returning the preprocessed string in tokenized form"
   ]
  },
  {
   "cell_type": "code",
   "execution_count": 33,
   "metadata": {},
   "outputs": [
    {
     "name": "stdout",
     "output_type": "stream",
     "text": [
      "['Clothing', 'Footwear', 'Automotive', 'Mobiles & Accessories', 'Jewellery']\n"
     ]
    }
   ],
   "source": [
    "'''\n",
    "This code block is for reading and cleaning data.\n",
    "\n",
    "'''\n",
    "import_df = pd.read_csv('.\\\\flipkart_com-ecommerce_sample.csv')\n",
    "# Reading relevant data\n",
    "import_df['product_category_tree'] = import_df['product_category_tree'].apply(lambda x : x.split('>>')[0][2:].strip())\n",
    "# Category processing. (Check data to understand)\n",
    "top_fiv_gen = list(import_df.groupby('product_category_tree').count().sort_values(by='uniq_id',ascending=False).head(5).index)\n",
    "# Taking only top 5 categories for example sake\n",
    "processed_df = import_df[import_df['product_category_tree'].isin(top_fiv_gen)][['product_category_tree','description']]\n",
    "# Selecting only relevant columns\n",
    "processed_df['description'] = processed_df['description'].astype('str').apply(preprocess_string)\n",
    "# Cleaning strings\n",
    "cat_list = list(processed_df['product_category_tree'].unique())\n",
    "# Creating a list of categories for later use\n",
    "print(cat_list)\n",
    "# Printing the list of top 5 categories\n",
    "le = preprocessing.LabelEncoder()\n",
    "category_encoded=le.fit_transform(processed_df['product_category_tree'])\n",
    "processed_df['product_category_tree'] = category_encoded\n",
    "# Encoding the product category"
   ]
  },
  {
   "cell_type": "code",
   "execution_count": 34,
   "metadata": {},
   "outputs": [],
   "source": [
    "'''\n",
    "This code block is for spliting train test data\n",
    "\n",
    "'''\n",
    "X_train, X_test, y_train, y_test = train_test_split(processed_df['description'],processed_df['product_category_tree'],test_size=0.2)"
   ]
  },
  {
   "cell_type": "code",
   "execution_count": 35,
   "metadata": {},
   "outputs": [],
   "source": [
    "'''\n",
    "This code block is for converting the training data to vectorized form\n",
    "\n",
    "'''\n",
    "vect = CountVectorizer(stop_words = 'english')\n",
    "# Removing stop words\n",
    "X_train_matrix = vect.fit_transform(X_train) \n",
    "# Converting the train data"
   ]
  },
  {
   "cell_type": "code",
   "execution_count": 36,
   "metadata": {},
   "outputs": [
    {
     "name": "stdout",
     "output_type": "stream",
     "text": [
      "0.9926336936764565\n",
      "0.9923488905891354\n",
      "              precision    recall  f1-score   support\n",
      "\n",
      "           0       0.99      1.00      0.99       212\n",
      "           1       1.00      1.00      1.00      1240\n",
      "           2       0.98      0.99      0.99       252\n",
      "           3       0.98      1.00      0.99       679\n",
      "           4       1.00      0.94      0.97       231\n",
      "\n",
      "    accuracy                           0.99      2614\n",
      "   macro avg       0.99      0.98      0.99      2614\n",
      "weighted avg       0.99      0.99      0.99      2614\n",
      "\n"
     ]
    }
   ],
   "source": [
    "'''\n",
    "This code block is for training vectorized data and predicting & scoring test data\n",
    "\n",
    "'''\n",
    "clf=MultinomialNB()\n",
    "# Defining model\n",
    "clf.fit(X_train_matrix, y_train)\n",
    "# Fitting to multinomial NB model \n",
    "print(clf.score(X_train_matrix, y_train))\n",
    "# Scoring the trained model (Expected to be above 95 percent)\n",
    "X_test_matrix = vect.transform(X_test) \n",
    "# Converting the test data\n",
    "print (clf.score(X_test_matrix, y_test))\n",
    "# Scoring for the test data\n",
    "predicted_result=clf.predict(X_test_matrix)\n",
    "print(classification_report(y_test,predicted_result))\n",
    "# Printing score "
   ]
  },
  {
   "cell_type": "code",
   "execution_count": 37,
   "metadata": {},
   "outputs": [],
   "source": [
    "'''\n",
    "This code block is for converting the training data to Tf-Idf form\n",
    "\n",
    "'''\n",
    "vectorizer = TfidfVectorizer(stop_words = 'english')\n",
    "# Removing stop words\n",
    "X_train_tfidf = vectorizer.fit_transform(X_train)\n",
    "# Converting the train data"
   ]
  },
  {
   "cell_type": "code",
   "execution_count": 38,
   "metadata": {},
   "outputs": [
    {
     "name": "stdout",
     "output_type": "stream",
     "text": [
      "0.993399024203578\n",
      "0.9877582249426167\n"
     ]
    }
   ],
   "source": [
    "'''\n",
    "This code block is for training, predicting & scoring test data\n",
    "\n",
    "'''\n",
    "clf2=MultinomialNB()\n",
    "# Defining model\n",
    "clf2.fit(X_train_tfidf, y_train)\n",
    "# Fitting to multinomial NB model \n",
    "print(clf2.score(X_train_tfidf, y_train))\n",
    "# Scoring the trained model (Expected to be above 95 percent)\n",
    "X_test_tfidf = vectorizer.transform(X_test) \n",
    "# Converting the test data\n",
    "print (clf2.score(X_test_tfidf, y_test))\n",
    "# Printing score "
   ]
  },
  {
   "cell_type": "code",
   "execution_count": 41,
   "metadata": {},
   "outputs": [
    {
     "data": {
      "text/plain": [
       "array(['Clothing'], dtype=object)"
      ]
     },
     "execution_count": 41,
     "metadata": {},
     "output_type": "execute_result"
    }
   ],
   "source": [
    "'''\n",
    "Testing Block: Test your sting. Replace the 'car' string to test\n",
    "'''\n",
    "le.inverse_transform(clf.predict(vect.transform(['car'])))"
   ]
  }
 ],
 "metadata": {
  "kernelspec": {
   "display_name": "Python 3",
   "language": "python",
   "name": "python3"
  },
  "language_info": {
   "codemirror_mode": {
    "name": "ipython",
    "version": 3
   },
   "file_extension": ".py",
   "mimetype": "text/x-python",
   "name": "python",
   "nbconvert_exporter": "python",
   "pygments_lexer": "ipython3",
   "version": "3.8.3"
  }
 },
 "nbformat": 4,
 "nbformat_minor": 4
}
